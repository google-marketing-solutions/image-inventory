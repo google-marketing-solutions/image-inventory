{
  "cells": [
    {
      "cell_type": "markdown",
      "metadata": {},
      "source": [
        "Copyright 2025 Google LLC.\n",
        "\n",
        "Licensed under the Apache License, Version 2.0 (the \"License\");"
      ]
    },
    {
      "cell_type": "code",
      "execution_count": null,
      "metadata": {},
      "outputs": [],
      "source": [
        "#@title See full license here\n",
        "\n",
        "# Copyright 2025 Google LLC\n",
        "\n",
        "# Licensed under the Apache License, Version 2.0 (the \"License\");\n",
        "# you may not use this file except in compliance with the License.\n",
        "# You may obtain a copy of the License at\n",
        "\n",
        "#     https://www.apache.org/licenses/LICENSE-2.0\n",
        "\n",
        "# Unless required by applicable law or agreed to in writing, software\n",
        "# distributed under the License is distributed on an \"AS IS\" BASIS,\n",
        "# WITHOUT WARRANTIES OR CONDITIONS OF ANY KIND, either express or implied.\n",
        "# See the License for the specific language governing permissions and\n",
        "# limitations under the License."
      ]
    },
    {
      "cell_type": "markdown",
      "metadata": {
        "id": "JJ3ODK1MPgHb"
      },
      "source": [
        "\n",
        "#  Push Products to Image Inventory for Classification\n",
        "\n",
        "## Description\n",
        "\n",
        "This Colab notebook provides an alternative way to selectively classify products\n",
        "using Image Inventory.\n",
        "\n",
        "Instead of having the solution \"always-on\" (meaning that the entire feed is classified and new products are classified as they are being added), this solution allows you manually select a subset of products to run through the classification pipeline.\n",
        "\n",
        "## References\n",
        "\n",
        "For more info, please check out the repository on [Github (google-marketing-solutions/image-inventory)](https://github.com/google-marketing-solutions/image-inventory)\n",
        "\n",
        "\n",
        "## How it works\n",
        "\n",
        "This notebook utilizes the same codebase as the \"always-on\" deployment.\n",
        "\n",
        "+ In the \"always-on\" deployment - push_products_lib is called by a Cloud Run Function\n",
        "\n",
        "+ In this colab notebook - you are manually calling the methods in push_products_lib.\n",
        "\n",
        "## Instructions\n",
        "\n",
        "To begin:\n",
        "\n",
        "1. Start and connect to a runtime (in the top right corner)\n",
        "2. Execute each code block (in sequence) by pressing the play icon next to each block.\n",
        "\n",
        "+ **Authenticate user** - sets up authentication for Google services\n",
        "+ **Install repo & dependencies** - clones repo from Github & uses pip to install required modules\n",
        "   + Note: this step may require you to restart the runtime.\n",
        "+ **Fill out form fields** - sets required configuration values\n",
        "   + Note: if your Image Inventory deployment uses default values for the [optional config parameters](https://github.com/google-marketing-solutions/image-inventory?tab=readme-ov-file#4-provide-values-for-variables), then you only need to fill out ```project_id```\n",
        "   + Be sure to rerun this code block after changing any values.\n",
        "+ **Define product filters** - choose one or more values that will be used to filter products in the feed\n",
        "   + For product type, the filter uses a \"starts with\" comparison, so when you provide a product type like \"Electronics,\" it will identify and include any product types that begin with \"Electronics,\" such as \"Electronics > TVs\" or \"Electronics > Audio.\n",
        "+ **Pull set of products** - this stages the set of products from BigQuery for classification, the product data is shown in a table for validation purposes.\n",
        "   + If ```exclude_previously_clasified_products``` is enabled, then the solution will only pull in product image links that have not been run through Image Inventory before\n",
        "   + When ```exclude_previously_clasified_products``` is disabled and if multiple products in the pull have the same link, those links will be processed multiple times.\n",
        "+ **Push set of products for analysis** - this is the step where products are pushed to Image Inventory for analysis.\n",
        "+ **Get generated classifications** - after Image Inventory has finished classifying the submitted products, this block queries the ```get_product_image_classifications``` BigQuery view to get the classifications by product."
      ]
    },
    {
      "cell_type": "code",
      "execution_count": null,
      "metadata": {
        "cellView": "form",
        "id": "-Egf9hJ9SYjN"
      },
      "outputs": [],
      "source": [
        "# @title ### Authenticate user\n",
        "\n",
        "from google.colab import auth\n",
        "auth.authenticate_user()\n",
        "print('Authenticated!')"
      ]
    },
    {
      "cell_type": "code",
      "execution_count": null,
      "metadata": {
        "cellView": "form",
        "collapsed": true,
        "id": "gMW2vZ44H1Rw"
      },
      "outputs": [],
      "source": [
        "# @title ### Install repo & python dependencies\n",
        "\n",
        "import os\n",
        "import datetime\n",
        "import pandas as pd\n",
        "\n",
        "from google.colab import data_table\n",
        "data_table.enable_dataframe_formatter()\n",
        "\n",
        "# Clone Github repo\n",
        "repo_path = '/content/image-inventory'\n",
        "if not os.path.exists(repo_path):\n",
        "  os.system('git clone https://github.com/google-marketing-solutions/image-inventory.git &> /dev/null')\n",
        "\n",
        "# Install python packages (may require restarting runtime)\n",
        "!pip install -q -r \"/content/image-inventory/src/push_products/requirements.txt\" &> /dev/null\n",
        "\n",
        "# Import push_products_lib\n",
        "push_products_lib = __import__(\"image-inventory.src.push_products.push_products_lib\", fromlist=[''])\n",
        "\n",
        "print('Successfully installed!')"
      ]
    },
    {
      "cell_type": "code",
      "execution_count": null,
      "metadata": {
        "id": "8imw1pDXLK1N"
      },
      "outputs": [],
      "source": [
        "\n",
        "# @title ### Fill out form fields { display-mode: \"form\" }\n",
        "# @markdown ### Required Values\n",
        "project_id = \"\" # @param {\"type\":\"string\",\"placeholder\":\"Your Google Cloud Project ID\"}\n",
        "\n",
        "# @markdown ---\n",
        "# @markdown ### Optional Values (uses default values from Image Inventory)\n",
        "dataset_id = \"image_inventory\" # @param {\"type\":\"string\",\"placeholder\":\"image_inventory\"}\n",
        "location  =  'us-central1' # @param {\"type\":\"string\",\"placeholder\":\"us-central1\"}\n",
        "queue_id = 'classify-products-queue' # @param {\"type\":\"string\",\"placeholder\":\"classify_products_queue\"}\n",
        "cloud_function_url = \"\" # @param {\"type\":\"string\"}\n",
        "if cloud_function_url == '':\n",
        "  cloud_function_url = f'https://{location}-{project_id}.cloudfunctions.net/classify-product-tf'\n",
        "\n",
        "if not project_id:\n",
        "  raise ValueError(\"No project ID provided\")\n",
        "\n",
        "product_pusher = push_products_lib.ProductPusher(project_id, dataset_id, location, queue_id)\n",
        "\n",
        "print('Successfully configured!')"
      ]
    },
    {
      "cell_type": "code",
      "execution_count": null,
      "metadata": {
        "id": "XkYkJrBiOLnL"
      },
      "outputs": [],
      "source": [
        "# @title Define product filters (choose one or more) { display-mode: \"form\" }\n",
        "product_type = \"\" # @param {\"type\":\"string\"}\n",
        "brands = \"\" # @param {\"type\":\"string\"}\n",
        "skus = \"\" # @param {\"type\":\"string\"}\n",
        "\n",
        "brands_list = [brand.strip().lower() for brand in brands.split(',')] if brands else []\n",
        "sku_list = [sku.strip().lower() for sku in skus.split(',')] if skus else []\n",
        "\n",
        "product_filter = push_products_lib.ProductFilter(product_type, brands_list, sku_list)\n",
        "\n",
        "print('Successfully defined filters!')"
      ]
    },
    {
      "cell_type": "code",
      "execution_count": null,
      "metadata": {
        "id": "WEYUQIVVZ2sz"
      },
      "outputs": [],
      "source": [
        "# @title Pull set of Products { display-mode: \"form\" }\n",
        "product_limit = \"10\" # @param {\"type\":\"string\"}\n",
        "exclude_previously_clasified_products = True # @param {type:\"boolean\"}\n",
        "\n",
        "if exclude_previously_clasified_products:\n",
        "  products = product_pusher.get_new_products_from_view(product_limit=int(product_limit), product_filter=product_filter)\n",
        "else:\n",
        "  products = product_pusher.get_all_products_from_view(product_limit=int(product_limit), product_filter=product_filter)\n",
        "\n",
        "print('Successfully pulled %d products!' % len(products))\n",
        "data_table.DataTable(pd.DataFrame(products))"
      ]
    },
    {
      "cell_type": "code",
      "execution_count": null,
      "metadata": {
        "cellView": "form",
        "id": "zZ2KDGhU1cBs"
      },
      "outputs": [],
      "source": [
        "# @title Push set of products for analysis\n",
        "\n",
        "if not product_pusher.is_queue_empty():\n",
        "  raise ValueError(\"Queue is not empty!\")\n",
        "\n",
        "try:\n",
        "  start_timestamp = datetime.datetime.now()\n",
        "  product_pusher.push_products(products, cloud_function_url=cloud_function_url)\n",
        "  print('Successfully pushed %d products to the queue!' % len(products))\n",
        "except Exception as e:\n",
        "  print('Error pushing products to the queue!')"
      ]
    },
    {
      "cell_type": "code",
      "execution_count": null,
      "metadata": {
        "cellView": "form",
        "id": "UpnoQRq7Kum_"
      },
      "outputs": [],
      "source": [
        "# @title Check if queue is empty (meaning all products are finished processing)\n",
        "\n",
        "if product_pusher.is_queue_empty():\n",
        "  print('Queue is empty!')\n",
        "else:\n",
        "  print('Queue is not empty!')"
      ]
    },
    {
      "cell_type": "code",
      "execution_count": null,
      "metadata": {
        "cellView": "form",
        "id": "MFHUZbK-3usY"
      },
      "outputs": [],
      "source": [
        "# @title Get generated classifications\n",
        "\n",
        "sql_filter = product_filter.get_sql_filter()\n",
        "timestamp_string = start_timestamp.isoformat(timespec='microseconds') + ' UTC'\n",
        "query = (\n",
        "    'SELECT T.* EXCEPT (offers),'\n",
        "    '(SELECT ARRAY_TO_STRING(ARRAY_AGG(DISTINCT o.offer_id), \", \") FROM UNNEST(offers) AS o) AS offer_ids,'\n",
        "    '(SELECT ARRAY_TO_STRING(ARRAY_AGG(DISTINCT o.image_type), \", \") FROM UNNEST(offers) AS o) AS image_types'\n",
        "    f' FROM {product_pusher.project_id}.{product_pusher.dataset_id}.get_product_image_classifications AS T'\n",
        "    f' WHERE timestamp > TIMESTAMP(\"{timestamp_string}\")'\n",
        "    f' LIMIT 1000'\n",
        ")\n",
        "data_table.DataTable(product_pusher.bigquery_client.query(query).to_dataframe())\n"
      ]
    }
  ],
  "metadata": {
    "colab": {
      "provenance": []
    },
    "kernelspec": {
      "display_name": "Python 3",
      "name": "python3"
    },
    "language_info": {
      "name": "python"
    }
  },
  "nbformat": 4,
  "nbformat_minor": 0
}
